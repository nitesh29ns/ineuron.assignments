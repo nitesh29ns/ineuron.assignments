{
 "cells": [
  {
   "cell_type": "markdown",
   "id": "93cfc3d0",
   "metadata": {},
   "source": [
    "# 1. Is the Python Standard Library included with PyInputPlus?\n",
    "\n",
    "Ans. No pyinputplus is not the standard library in python, you have to install by using `pip install pyinputplus`. "
   ]
  },
  {
   "cell_type": "markdown",
   "id": "aede0915",
   "metadata": {},
   "source": [
    "# 2. Why is PyInputPlus commonly imported with import pyinputplus as pypi?\n",
    "\n",
    "Ans. It is the short form of `pyinputplus` `pypi` and use as alias so we have not to type pyinputplus many time."
   ]
  },
  {
   "cell_type": "markdown",
   "id": "0822dd1d",
   "metadata": {},
   "source": [
    "# 3. How do you distinguish between inputInt() and inputFloat()?\n",
    "\n",
    "Ans. `inputInt()` does not support float values like 12.2 and just support int values like 123, where as in `inputFloat()` add int values as float by `adding .0` in it and accept float values like 12.3. "
   ]
  },
  {
   "cell_type": "markdown",
   "id": "85adf46e",
   "metadata": {},
   "source": [
    "# 4. Using PyInputPlus, how do you ensure that the user enters a whole number between 0 and 99?\n",
    "\n",
    "Ans. `pypi.inputInt(min=0, max=99)`."
   ]
  },
  {
   "cell_type": "markdown",
   "id": "13327f25",
   "metadata": {},
   "source": [
    "# 5. What is transferred to the keyword arguments allowRegexes and blockRegexes?\n",
    "\n",
    "Ans. `allowRegexes` take string or regex as data so you can allow the spicified values, and in `blockregexes` will block the specified values."
   ]
  },
  {
   "cell_type": "markdown",
   "id": "855ef21a",
   "metadata": {},
   "source": [
    "# 6. If a blank input is entered three times, what does inputStr(limit=3) do?\n",
    "\n",
    "Ans. After 3 blank it return the error saying that `limit Exception`."
   ]
  },
  {
   "cell_type": "markdown",
   "id": "160e9719",
   "metadata": {},
   "source": [
    "# 7. If blank input is entered three times, what does inputStr(limit=3, default='hello') do?\n",
    "Ans. after the 3 blank it will return the deafault values that is specified `hello`."
   ]
  },
  {
   "cell_type": "code",
   "execution_count": null,
   "id": "b4bb1acd",
   "metadata": {},
   "outputs": [],
   "source": []
  }
 ],
 "metadata": {
  "kernelspec": {
   "display_name": "Python 3 (ipykernel)",
   "language": "python",
   "name": "python3"
  },
  "language_info": {
   "codemirror_mode": {
    "name": "ipython",
    "version": 3
   },
   "file_extension": ".py",
   "mimetype": "text/x-python",
   "name": "python",
   "nbconvert_exporter": "python",
   "pygments_lexer": "ipython3",
   "version": "3.9.7"
  }
 },
 "nbformat": 4,
 "nbformat_minor": 5
}
