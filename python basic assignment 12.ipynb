{
 "cells": [
  {
   "cell_type": "markdown",
   "id": "56aa301a",
   "metadata": {},
   "source": [
    "# 1. In what modes should the PdfFileReader() and PdfFileWriter() File objects will be opened?\n",
    "\n",
    "Ans. `rb(read binary)`."
   ]
  },
  {
   "cell_type": "markdown",
   "id": "2c85511b",
   "metadata": {},
   "source": [
    "# 2. From a PdfFileReader object, how do you get a Page object for page 5?\n",
    "\n",
    "Ans. `read = PyPDF2.PdfFileReader(pdf)\n",
    "      f = read.getPage(5)`"
   ]
  },
  {
   "cell_type": "markdown",
   "id": "715a19a9",
   "metadata": {},
   "source": [
    "# 3. What PdfFileReader variable stores the number of pages in the PDF document?\n",
    "\n",
    "Ans. `.numPages`."
   ]
  },
  {
   "cell_type": "markdown",
   "id": "ac577f82",
   "metadata": {},
   "source": [
    "# 4. If a PdfFileReader object’s PDF is encrypted with the password swordfish, what must you do before you can obtain Page objects from it?\n",
    "\n",
    "Ans. `PdfFileReader object’s.decrypt(\"swordfish\")\n",
    "      PdfFileReader object’s.getPage()`."
   ]
  },
  {
   "cell_type": "markdown",
   "id": "4708ade3",
   "metadata": {},
   "source": [
    "# 5. What methods do you use to rotate a page?\n",
    "\n",
    "Ans. `.rotateClockwise(90)` rotate page at 90 degree."
   ]
  },
  {
   "cell_type": "markdown",
   "id": "ff823537",
   "metadata": {},
   "source": [
    "# 6. What is the difference between a Run object and a Paragraph object?\n",
    "\n",
    "Ans. `run object` is the contiguous run of the text with the same style and a new run object is needed whenever the text style changes\n",
    "    \n",
    "`paragraph object` contains a list of one or more run object and a new paragraph begins when the user press entre or return."
   ]
  },
  {
   "cell_type": "markdown",
   "id": "e9627ea1",
   "metadata": {},
   "source": [
    "# 7. How do you obtain a list of Paragraph objects for a Document object that’s stored in a variable named doc?\n",
    "\n",
    "Ans. `doc = docx.Document(filename)\n",
    "\n",
    "      fullText = []\n",
    "    \n",
    "      for para in doc.paragraphs:\n",
    "            \n",
    "          fullText.append(para.text)`"
   ]
  },
  {
   "cell_type": "markdown",
   "id": "ff283d26",
   "metadata": {},
   "source": [
    "# 8. What type of object has bold, underline, italic, strike, and outline variables?\n",
    "\n",
    "Ans. `doc.paragraph`."
   ]
  },
  {
   "cell_type": "markdown",
   "id": "7317b780",
   "metadata": {},
   "source": [
    "# 9. What is the difference between False, True, and None for the bold variable?\n",
    "\n",
    "Ans. `false` means not any bold text, `true` means having bold text, `none` means not having any text."
   ]
  },
  {
   "cell_type": "markdown",
   "id": "250729b3",
   "metadata": {},
   "source": [
    "# 10. How do you create a Document object for a new Word document?\n",
    "\n",
    "Ans. `doc = docx.Document('new.docx')\n",
    "     doc.paragraphs[0].text`."
   ]
  },
  {
   "cell_type": "markdown",
   "id": "887a9459",
   "metadata": {},
   "source": [
    "# 11. How do you add a paragraph with the text 'Hello, there' to a Document object stored in a variable named doc? \n",
    "\n",
    "Ans.`doc = docx.Document()\n",
    "     doc.add_paragraph(\"hello, there\")`."
   ]
  },
  {
   "cell_type": "markdown",
   "id": "3aa125dc",
   "metadata": {},
   "source": [
    "# 12. What integers represent the levels of headings available in Word documents?\n",
    "\n",
    "Ans.`.add_heading()` an integer from 0 to 4. The integer 0 makes the heading the Title style, which is used for the top of the document. Integers 1 to 4 are for various heading levels, with 1 being the main heading and 4 the lowest subheading."
   ]
  },
  {
   "cell_type": "code",
   "execution_count": null,
   "id": "929ce1f3",
   "metadata": {},
   "outputs": [],
   "source": []
  },
  {
   "cell_type": "code",
   "execution_count": null,
   "id": "1f80cf38",
   "metadata": {},
   "outputs": [],
   "source": []
  }
 ],
 "metadata": {
  "kernelspec": {
   "display_name": "Python 3 (ipykernel)",
   "language": "python",
   "name": "python3"
  },
  "language_info": {
   "codemirror_mode": {
    "name": "ipython",
    "version": 3
   },
   "file_extension": ".py",
   "mimetype": "text/x-python",
   "name": "python",
   "nbconvert_exporter": "python",
   "pygments_lexer": "ipython3",
   "version": "3.9.7"
  }
 },
 "nbformat": 4,
 "nbformat_minor": 5
}
