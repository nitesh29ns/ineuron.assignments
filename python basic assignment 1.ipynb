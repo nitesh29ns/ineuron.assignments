{
 "cells": [
  {
   "cell_type": "markdown",
   "id": "d159f085",
   "metadata": {},
   "source": [
    "# 1. In the below elements which of them are values or an expression? eg:- values can be integer or string and expressions will be mathematical operators.\n",
    "\n",
    " `*` \n",
    "\n",
    " 'hello'\n",
    " \n",
    " -87.8\n",
    "- \n",
    "/ \n",
    "+\n",
    "6 \n",
    "\n",
    "Ans. Values = hello, 6, -87.8\n",
    "     and expression = *, -, /, +"
   ]
  },
  {
   "cell_type": "markdown",
   "id": "12c1bfb4",
   "metadata": {},
   "source": [
    "# 2. What is the difference between string and variable?\n",
    "\n",
    "Ans. `string` is datatype. \n",
    "     \n",
    "  `variable` is use to store values of any datatype like int, string, bool, float etc, and can be recalled at any point of time within script."
   ]
  },
  {
   "cell_type": "markdown",
   "id": "cabe4267",
   "metadata": {},
   "source": [
    "# 3. Describe three different data types.\n",
    "\n",
    "Ans. 1. `int`  is an integer data type and store numbers, arithmetic operation can be apply on the int data types.\n",
    "     \n",
    "   2. `string` store letters values and using str() we can convert int to string and read int values as string.\n",
    "    \n",
    "   3. `bool` contain True or False values or interpret as 0 and 1. "
   ]
  },
  {
   "cell_type": "markdown",
   "id": "de3e28ab",
   "metadata": {},
   "source": [
    "# 4. What is an expression made up of? What do all expressions do?\n",
    "\n",
    "Ans. expression are made up of any integer, string etc or variable that store any data and expression is a combination of operators and operands."
   ]
  },
  {
   "cell_type": "markdown",
   "id": "750c756e",
   "metadata": {},
   "source": [
    "# 5. This assignment statements, like spam = 10. What is the difference between an expression and a statement?\n",
    "\n",
    "Ans. `expression` always return and produce result values where `statement` may not return any result value. it just do what the statement says, so spam = 10 is a statement."
   ]
  },
  {
   "cell_type": "markdown",
   "id": "ce4d406f",
   "metadata": {},
   "source": [
    "# 6. After running the following code, what does the variable bacon contain?\n",
    "bacon = 22\n",
    "bacon + 1\n",
    "\n",
    "Ans. `bacon` contain value `22` because if we run bacon + 1 it just add 1 within the line but not update the bacon value, if we call bacon it gives value 22."
   ]
  },
  {
   "cell_type": "markdown",
   "id": "9ea30976",
   "metadata": {},
   "source": [
    "# 7. What should the values of the following two terms be?\n",
    "'spam' + 'spamspam'\n",
    "'spam' * 3\n",
    "\n",
    "Ans. The `values of the given two terms are the same` - because in the first term two string object where added and in the second term string object is repeat by 3 times"
   ]
  },
  {
   "cell_type": "markdown",
   "id": "cdc50921",
   "metadata": {},
   "source": [
    "# 8. Why is eggs a valid variable name while 100 is invalid?\n",
    "\n",
    "Ans. eggs is a valid variable because we can assign any type of value to the variable `eggs`. where in `100` is an integer so we can not assign any type of value to it."
   ]
  },
  {
   "cell_type": "markdown",
   "id": "e11615d8",
   "metadata": {},
   "source": [
    "# 9. What three functions can be used to get the integer, floating-point number, or string version of a value?\n",
    "\n",
    "Ans. For `integer` we have to use `int()` for eg. `int(input('enter your no.: '))` it convert the input into int type.\n",
    "     \n",
    "   for `floating-point numbers` we have to use `float()` for eg. `float(input('enter your no.: '))` it convert the input into float type.\n",
    "    \n",
    "   for `string` we have to use `str()` for eg. `str(input('enter your name.: '))` it convert the input type into string, by default the input type return the str type values"
   ]
  },
  {
   "cell_type": "markdown",
   "id": "5d62da67",
   "metadata": {},
   "source": [
    "# 10. Why does this expression cause an error? How can you fix it?\n",
    "'I have eaten ' + 99 + ' burritos.'\n",
    "\n",
    "Ans. we can not add the string type object to int type object. for add the int with the string we have to convert the int into string by using `str()` funcation.\n",
    "`'I have eaten ' + str(99) + ' burritos.'`\n",
    " \n",
    " `output` = `'I have eaten 99 burritos.'` "
   ]
  },
  {
   "cell_type": "code",
   "execution_count": null,
   "id": "c3dda689",
   "metadata": {},
   "outputs": [],
   "source": []
  }
 ],
 "metadata": {
  "kernelspec": {
   "display_name": "Python 3 (ipykernel)",
   "language": "python",
   "name": "python3"
  },
  "language_info": {
   "codemirror_mode": {
    "name": "ipython",
    "version": 3
   },
   "file_extension": ".py",
   "mimetype": "text/x-python",
   "name": "python",
   "nbconvert_exporter": "python",
   "pygments_lexer": "ipython3",
   "version": "3.9.7"
  }
 },
 "nbformat": 4,
 "nbformat_minor": 5
}
