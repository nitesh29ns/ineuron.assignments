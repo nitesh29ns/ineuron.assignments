{
 "cells": [
  {
   "cell_type": "markdown",
   "id": "de8976eb",
   "metadata": {},
   "source": [
    "# 1. Create an assert statement that throws an AssertionError if the variable spam is a negative integer.\n",
    "\n",
    "Ans. `x = -2\n",
    "      assert x >= 0 , 'only positive'\n",
    "      if not x >= 0 :\n",
    "          raise AssertionError()`"
   ]
  },
  {
   "cell_type": "markdown",
   "id": "0ffa5069",
   "metadata": {},
   "source": [
    "# 2. Write an assert statement that triggers an AssertionError if the variables eggs and bacon contain strings that are the same as each other, even if their cases are different (that is,'hello' and 'hello' are considered the same, and 'goodbye' and 'GOODbye' are also considered the same).\n",
    "\n",
    "Ans. `eggs ='goodbye'\n",
    "      bacon = 'GOODbye'\n",
    "      assert eggs == bacon , 'same data'\n",
    "      if eggs == bacon :\n",
    "          raise AssertionError()`."
   ]
  },
  {
   "cell_type": "markdown",
   "id": "7c52ef85",
   "metadata": {},
   "source": [
    "# 3. Create an assert statement that throws an AssertionError every time.\n",
    "\n",
    "Ans. `assert  True , 'every time'\n",
    "      if  True:\n",
    "          raise AssertionError()`."
   ]
  },
  {
   "cell_type": "markdown",
   "id": "8162ec94",
   "metadata": {},
   "source": [
    "# 4. What are the two lines that must be present in your software in order to call logging.debug()?\n",
    "\n",
    "Ans. `import logging as lg\n",
    "     lg.basicConfig(filename='test.log', level='lg.DEBUG', format='%(asctime)s %(message)s')\n",
    "     lg.debug(\"first log\")`."
   ]
  },
  {
   "cell_type": "markdown",
   "id": "4c026669",
   "metadata": {},
   "source": [
    "# 5. What are the two lines that your program must have in order to have logging.debug() send a logging message to a file named programLog.txt?\n",
    "\n",
    "Ans. `import logging as lg\n",
    "     lg.basicConfig(filename='programLog.txt', level='lg.DEBUG', format='%(asctime)s %(message)s')\n",
    "     lg.debug(\"first log\")`."
   ]
  },
  {
   "cell_type": "markdown",
   "id": "b690e52a",
   "metadata": {},
   "source": [
    "# 6. What are the five levels of logging? \n",
    "\n",
    "Ans. `1.DEBUG`\n",
    "\n",
    "`2.INFO`\n",
    "\n",
    "`3.WARNING`\n",
    "\n",
    "`4.ERROR`\n",
    "\n",
    "`5.CRITICAL`."
   ]
  },
  {
   "cell_type": "markdown",
   "id": "2ad9a4a3",
   "metadata": {},
   "source": [
    "# 7. What line of code would you add to your software to disable all logging messages?\n",
    "\n",
    "Ans. `logging.disable(logging.CRITICAL)`."
   ]
  },
  {
   "cell_type": "markdown",
   "id": "a2cad870",
   "metadata": {},
   "source": [
    "# 8.Why is using logging messages better than using print() to display the same message?\n",
    "\n",
    "Ans. Log messages are intended for programmer not for the end user. these messages are usefull for debugging."
   ]
  },
  {
   "cell_type": "markdown",
   "id": "9f52ecd1",
   "metadata": {},
   "source": [
    "# 9. What are the differences between the Step Over, Step In, and Step Out buttons in the debugger?\n",
    "\n",
    "Ans. `step over` will run over the funcation without executing it , `step in` will run the line inside the funcation. `step out` will run the code at full speed until it return from the funcation."
   ]
  },
  {
   "cell_type": "markdown",
   "id": "e5810c24",
   "metadata": {},
   "source": [
    "# 10.After you click Continue, when will the debugger stop ?\n",
    "\n",
    "Ans. degger stop when you click the `continue` after clicking continue your program will running normally."
   ]
  },
  {
   "cell_type": "markdown",
   "id": "6a624236",
   "metadata": {},
   "source": [
    "# 11. What is the concept of a breakpoint?\n",
    "\n",
    "Ans. you can add `breakpoint` where you want to pause the debugger when you reach that line of code."
   ]
  },
  {
   "cell_type": "code",
   "execution_count": null,
   "id": "f6908a05",
   "metadata": {},
   "outputs": [],
   "source": []
  }
 ],
 "metadata": {
  "kernelspec": {
   "display_name": "Python 3 (ipykernel)",
   "language": "python",
   "name": "python3"
  },
  "language_info": {
   "codemirror_mode": {
    "name": "ipython",
    "version": 3
   },
   "file_extension": ".py",
   "mimetype": "text/x-python",
   "name": "python",
   "nbconvert_exporter": "python",
   "pygments_lexer": "ipython3",
   "version": "3.9.7"
  }
 },
 "nbformat": 4,
 "nbformat_minor": 5
}
