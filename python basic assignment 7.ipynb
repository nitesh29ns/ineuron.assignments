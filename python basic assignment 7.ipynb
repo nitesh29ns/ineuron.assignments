{
 "cells": [
  {
   "cell_type": "markdown",
   "id": "95e6e614",
   "metadata": {},
   "source": [
    "# 1. What is the name of the feature responsible for generating Regex objects?\n",
    "\n",
    "Ans. The re.compile() funcation returns regex objects."
   ]
  },
  {
   "cell_type": "markdown",
   "id": "03c8c3be",
   "metadata": {},
   "source": [
    "# 2. Why do raw strings often appear in Regex objects?\n",
    "\n",
    "Ans. raw strings are used so that backslashes do not have to escaped."
   ]
  },
  {
   "cell_type": "markdown",
   "id": "a5dfde3b",
   "metadata": {},
   "source": [
    "# 3. What is the return value of the search() method?\n",
    "\n",
    "Ans. The search method returns match objects."
   ]
  },
  {
   "cell_type": "markdown",
   "id": "906f6568",
   "metadata": {},
   "source": [
    "# 4. From a Match item, how do you get the actual strings that match the pattern?\n",
    "\n",
    "Ans. the group() method returns strings of the matched text."
   ]
  },
  {
   "cell_type": "markdown",
   "id": "08cb57ff",
   "metadata": {},
   "source": [
    "# 5. In the regex which created from the r'(\\d\\d\\d)-(\\d\\d\\d-\\d\\d\\d\\d)', what does group zero cover? Group 2? Group 1?\n",
    "\n",
    "Ans. `group(0)` return the complete number `(\\d\\d\\d)-(\\d\\d\\d-\\d\\d\\d\\d)`, and `group(2)` return the last two group of number `(\\d\\d\\d-\\d\\d\\d\\d)`, and `group(1)` return the first numbers `(\\d\\d\\d)`."
   ]
  },
  {
   "cell_type": "markdown",
   "id": "cc38025d",
   "metadata": {},
   "source": [
    "# 6. In standard expression syntax, parentheses and intervals have distinct meanings. How can you tell a regex that you want it to fit real parentheses and periods?\n",
    "\n",
    "Ans. `\\(   \\)`."
   ]
  },
  {
   "cell_type": "markdown",
   "id": "3ba476b0",
   "metadata": {},
   "source": [
    "# 7. The findall() method returns a string list or a list of string tuples. What causes it to return one of the two options?\n",
    "\n",
    "Ans. if there is a `groups` in the regular expression it return `list of string tuples`, if there is `no groups` it return `string list`."
   ]
  },
  {
   "cell_type": "markdown",
   "id": "07f8e41d",
   "metadata": {},
   "source": [
    "# 8. In standard expressions, what does the | character mean?\n",
    "\n",
    "Ans. it means `or`."
   ]
  },
  {
   "cell_type": "markdown",
   "id": "6f8fa0c0",
   "metadata": {},
   "source": [
    "# 9. In regular expressions, what does the character stand for?\n",
    "\n",
    "Ans. `\\d` `any numeric digit from 0 to 9`,\n",
    "\n",
    "`\\D` `any character that is not a numric digit from 0 to 9`,\n",
    "\n",
    "`\\w` `any letter, numric digit, or underscore character matching 'word' character`,\n",
    "\n",
    "`\\W` `any character that is not letter, numeric digit or underscore`,\n",
    "\n",
    "`\\s` `any space, tab, or newline character matching 'space' character`,\n",
    "\n",
    "`\\S` `any character that is not space, tab, or neline`."
   ]
  },
  {
   "cell_type": "markdown",
   "id": "0992d951",
   "metadata": {},
   "source": [
    "# 10.In regular expressions, what is the difference between the + and * characters?\n",
    "\n",
    "Ans. `*` is used to match zero or more occurance of regular expression, and `+` is used to match one or more occurance in one characte regular expression."
   ]
  },
  {
   "cell_type": "markdown",
   "id": "29c751dc",
   "metadata": {},
   "source": [
    "# 11. What is the difference between {4} and {4,5} in regular expression?\n",
    "\n",
    "Ans. `{4}` means `exactly repeated 4 times ` and `{4,5}` means `repated minmum 4 and maximum 5`."
   ]
  },
  {
   "cell_type": "markdown",
   "id": "ecc12a77",
   "metadata": {},
   "source": [
    "# 12. What do you mean by the \\d, \\w, and \\s shorthand character classes signify in regular expressions?\n",
    "\n",
    "Ans. `\\d` `any numeric digit from 0 to 9`,\n",
    "\n",
    "`\\w` `any letter, numric digit, or underscore character matching 'word' character`,\n",
    "\n",
    "`\\s` `any space, tab, or newline character matching 'space' character`."
   ]
  },
  {
   "cell_type": "markdown",
   "id": "b7185d5f",
   "metadata": {},
   "source": [
    "# 13. What do means by \\D, \\W, and \\S shorthand character classes signify in regular expressions?\n",
    "\n",
    "Ans. `\\D` `any character that is not a numric digit from 0 to 9`,\n",
    "\n",
    "`\\W` `any character that is not letter, numeric digit or underscore`,\n",
    "\n",
    "`\\S` `any character that is not space, tab, or neline`."
   ]
  },
  {
   "cell_type": "markdown",
   "id": "c35e8947",
   "metadata": {},
   "source": [
    "# 14. What is the difference between .*? and .*  ?\n",
    "\n",
    "Ans. `.*?` is a `non-greedy` it search untill it matches, and `.*` is a `greedy` it try to match as much text as possible."
   ]
  },
  {
   "cell_type": "markdown",
   "id": "cb48d670",
   "metadata": {},
   "source": [
    "# 15. What is the syntax for matching both numbers and lowercase letters with a character class?\n",
    "\n",
    "Ans. `[a-zA-Z0-9]`."
   ]
  },
  {
   "cell_type": "markdown",
   "id": "48ad4eca",
   "metadata": {},
   "source": [
    "# 16. What is the procedure for making a normal expression in regax case insensitive?\n",
    "\n",
    "Ans. by using `re.IGNORECASE or re.I`."
   ]
  },
  {
   "cell_type": "markdown",
   "id": "f774c158",
   "metadata": {},
   "source": [
    "# 17. What does the . character normally match? What does it match if re.DOTALL is passed as 2nd argument in re.compile()?\n",
    "\n",
    "Ans. by passing `re.DOTALL` as the second argument you can make the dot character `matching all character including newline character also`."
   ]
  },
  {
   "cell_type": "markdown",
   "id": "1911bf0b",
   "metadata": {},
   "source": [
    "# 18. If numReg = re.compile(r'\\d+'), what will numRegex.sub('X', '11 drummers, 10 pipers, five rings, 4 hen') return?\n",
    "\n",
    "Ans. `X drummers, X pipers, five rings, X hen`."
   ]
  },
  {
   "cell_type": "markdown",
   "id": "82554633",
   "metadata": {},
   "source": [
    "# 19. What does passing re.VERBOSE as the 2nd argument to re.compile() allow to do?\n",
    "\n",
    "Ans. by using re.VERBOSE  in re.compile() as the 2nd argument `to ignore whitespace and comments inside the regular expression string`. "
   ]
  },
  {
   "cell_type": "markdown",
   "id": "2bfc7eed",
   "metadata": {},
   "source": [
    "# 20. How would you write a regex that match a number with comma for every three digits? It must match the given following:\n",
    "'42'\n",
    "'1,234'\n",
    "'6,368,745'\n",
    "\n",
    "but not the following:\n",
    "'12,34,567' (which has only two digits between the commas)\n",
    "'1234' (which lacks commas)\n",
    "\n",
    "Ans. `k = re.compile(r\"^\\d{1,3}(,(\\d{3}))*$\")`."
   ]
  },
  {
   "cell_type": "markdown",
   "id": "551d0372",
   "metadata": {},
   "source": [
    "# 21. How would you write a regex that matches the full name of someone whose last name is Watanabe? You can assume that the first name that comes before it will always be one word that begins with a capital letter. The regex must match the following: 'Haruto Watanabe'\n",
    "'Alice Watanabe'\n",
    "\n",
    "'RoboCop Watanabe'\n",
    "\n",
    "but not the following:\n",
    "\n",
    "'haruto Watanabe' (where the first name is not capitalized)\n",
    "\n",
    "'Mr. Watanabe' (where the preceding word has a nonletter character)\n",
    "\n",
    "'Watanabe' (which has no first name)\n",
    "\n",
    "'Haruto watanabe' (where Watanabe is not capitalized)\n",
    "\n",
    "Ans `pattern = r\"[A-Z]\\w{1,} Watanabe\",  name = \"\"\"Haruto Watanabe Alice Watanabe RoboCop Watanabe haruto Watanabe Mr. Watanabe Haruto watanabe \"\"\"`\n",
    " \n",
    "`re.findall(pattern, name)`\n",
    "\n",
    "`output` = `['Haruto Watanabe', 'Alice Watanabe', 'RoboCop Watanabe']`"
   ]
  },
  {
   "cell_type": "code",
   "execution_count": null,
   "id": "83145491",
   "metadata": {},
   "outputs": [],
   "source": []
  }
 ],
 "metadata": {
  "kernelspec": {
   "display_name": "Python 3 (ipykernel)",
   "language": "python",
   "name": "python3"
  },
  "language_info": {
   "codemirror_mode": {
    "name": "ipython",
    "version": 3
   },
   "file_extension": ".py",
   "mimetype": "text/x-python",
   "name": "python",
   "nbconvert_exporter": "python",
   "pygments_lexer": "ipython3",
   "version": "3.9.7"
  }
 },
 "nbformat": 4,
 "nbformat_minor": 5
}
