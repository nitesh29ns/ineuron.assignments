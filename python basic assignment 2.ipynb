{
 "cells": [
  {
   "cell_type": "markdown",
   "id": "1ab4e1be",
   "metadata": {},
   "source": [
    "# 1.What are the two values of the Boolean data type? How do you write them?\n",
    "\n",
    "Ans. The two values of the boolean data type is `True` and `False`, assign the `variable = True/ False` if you want to be True or False. "
   ]
  },
  {
   "cell_type": "markdown",
   "id": "b169ce13",
   "metadata": {},
   "source": [
    "# 2. What are the three different types of Boolean operators?\n",
    "\n",
    "Ans. The three different type of boolean operators are:\n",
    "1. and `True if both the oprands are True.`\n",
    "2. or `True if any of the oprands are True.`\n",
    "3. not `True if oprands are false.`"
   ]
  },
  {
   "cell_type": "markdown",
   "id": "b6bf8ae6",
   "metadata": {},
   "source": [
    "# 3. Make a list of each Boolean operators truth tables (i.e. every possible combination of Boolean values for the operator and what it evaluate ).\n",
    "\n",
    "Ans. `and` Truth table it take two oprands `evaluates` True only if both the oprands are True.\n",
    "\n",
    " `a       b       a and b\n",
    " False   False   False\n",
    " False   True    False\n",
    " True    False   False\n",
    " True    True    True`\n",
    " \n",
    " `or` truth table it take two oprands `evaluates` True if any of the oprands are True.\n",
    " \n",
    "`a\t    b\t    a or b\n",
    "False\tFalse\tFalse\n",
    "False\tTrue\tTrue\n",
    "True\tFalse\tTrue\n",
    "True\tTrue\tTrue`\n",
    "\n",
    " `not` truth table it take only one oprands `evaluates` true if oprands are False.\n",
    "\n",
    "`a\t    not a\n",
    "False\tTrue\n",
    "True\tFalse`"
   ]
  },
  {
   "cell_type": "markdown",
   "id": "592f1219",
   "metadata": {},
   "source": [
    "# 4. What are the values of the following expressions?\n",
    "1.(5 > 4) and (3 == 5)\n",
    "\n",
    "2.not (5 > 4)\n",
    "\n",
    "3.(5 > 4) or (3 == 5)\n",
    "\n",
    "4.not ((5 > 4) or (3 == 5))\n",
    "\n",
    "5.(True and True) and (True == False)\n",
    "\n",
    "6.(not False) or (not True)\n",
    "\n",
    "Ans. 1 = `False`.\n",
    "     2 = `False`.\n",
    "     3 = `True`.\n",
    "     4=`False`.\n",
    "     5=`False`.\n",
    "     6=`True`."
   ]
  },
  {
   "cell_type": "markdown",
   "id": "44de4394",
   "metadata": {},
   "source": [
    "# 5. What are the six comparison operators?\n",
    "\n",
    "Ans. The six comparison oprators are as follows:\n",
    "\n",
    "1 Less than ( `<` )\n",
    "\n",
    "2 Less than or equal to (`<=`)\n",
    "\n",
    "3 Greater than (`>`)\n",
    "\n",
    "4 Greater than or equal to (`>=`)\n",
    "\n",
    "5 Equal to ( `==` )\n",
    "\n",
    "6 Not equal to ( `!=` )"
   ]
  },
  {
   "cell_type": "markdown",
   "id": "deb83776",
   "metadata": {},
   "source": [
    "# 6. How do you tell the difference between the equal to and assignment operators?Describe a condition and when you would use one.\n",
    "\n",
    "Ans. For `assignment operators` we use single `=` and for `equal` we use double `==`. if we have to give the values to the variable eg.`name = \"nitesh sharma\"`, we use assignment and if we have to check `x==y` we use equal to."
   ]
  },
  {
   "cell_type": "markdown",
   "id": "b1f27933",
   "metadata": {},
   "source": [
    "# 7. Identify the three blocks in this code:\n",
    "spam = 0\n",
    "\n",
    "if spam == 10:\n",
    "\n",
    "print(&#39;eggs&#39;)\n",
    "\n",
    "if spam > 5:\n",
    "\n",
    "print(&#39;bacon&#39;)\n",
    "\n",
    "else:\n",
    "\n",
    "print(&#39;ham&#39;)\n",
    "\n",
    "print(&#39;spam&#39;)\n",
    "\n",
    "print(&#39;spam&#39;)\n",
    "\n",
    "Ans. Blocks are those lines of code which are in the same indent.\n",
    "1. first blocks - `lines under the if spam == 10:`.\n",
    "2. second blocks - `lines under the if spam > 5:`.\n",
    "3. third blocks - `lines under the else:`."
   ]
  },
  {
   "cell_type": "markdown",
   "id": "a1fb77be",
   "metadata": {},
   "source": [
    "# 8. Write code that prints Hello if 1 is stored in spam, prints Howdy if 2 is stored in spam, and prints Greetings! if anything else is stored in spam.\n",
    "\n",
    "Ans.\n",
    "spam = input('enter:')\n",
    "\n",
    "if spam == str(1):\n",
    "    \n",
    "    print(\"hello\")\n",
    "    \n",
    "elif spam == str(2):\n",
    "    \n",
    "    print(\"Howdy\")\n",
    "    \n",
    "else :\n",
    "    \n",
    "    print(\"Greetings!\")"
   ]
  },
  {
   "cell_type": "markdown",
   "id": "92d4074c",
   "metadata": {},
   "source": [
    "# 9.If your programme is stuck in an endless loop, what keys you’ll press?\n",
    "\n",
    "Ans. ctrl + c"
   ]
  },
  {
   "cell_type": "markdown",
   "id": "e6710b85",
   "metadata": {},
   "source": [
    "# 10. How can you tell the difference between break and continue?\n",
    "\n",
    "Ans. `break` is use for breaking the loop or iterating after the program read the break it come out from the loop. and `continue` is used to satisfy the statment and run the the loop .\n",
    "\n",
    "eg.`continue`\n",
    "    for i in range(10):\n",
    "    \n",
    "    i +=1\n",
    "    \n",
    "    if i == 5:\n",
    "    \n",
    "        print(\"yes\")\n",
    "    \n",
    "        continue\n",
    "    \n",
    "    print(i)\n",
    "    \n",
    "\n",
    "`break`\n",
    "   for i in range(10):\n",
    "   \n",
    "   i +=1\n",
    "   \n",
    "   if i == 5:\n",
    "   \n",
    "       print(\"yes\")\n",
    "   \n",
    "       break\n",
    "    \n",
    "        print(i)\n",
    "\n",
    "    "
   ]
  },
  {
   "cell_type": "markdown",
   "id": "7d8fd58d",
   "metadata": {},
   "source": [
    "# 11. In a for loop, what is the difference between range(10), range(0, 10), and range(0, 10, 1)?\n",
    "\n",
    "Ans. they all are same but `range(0, 10)` means starting from 0 to 10 and `range(0, 10, 1)` means starting from 0 to 10 with step of 1 "
   ]
  },
  {
   "cell_type": "markdown",
   "id": "f7f4c915",
   "metadata": {},
   "source": [
    "# 12. Write a short program that prints the numbers 1 to 10 using a for loop. Then write an equivalent program that prints the numbers 1 to 10 using a while loop.\n",
    "\n",
    "Ans.`for loop` \n",
    "   \n",
    "   for i in range(11):\n",
    "         print(i)\n",
    "        \n",
    "    `while loop`\n",
    "    \n",
    "    i = 0\n",
    "    while  i<=10:\n",
    "       print(i)\n",
    "       i += 1"
   ]
  },
  {
   "cell_type": "markdown",
   "id": "1f25e8ee",
   "metadata": {},
   "source": [
    "# 13. If you had a function named bacon() inside a module named spam, how would you call it afterimporting spam?\n",
    "\n",
    "Ans. import spam\n",
    "\n",
    "`spam.bacon()`"
   ]
  },
  {
   "cell_type": "code",
   "execution_count": null,
   "id": "1130525b",
   "metadata": {},
   "outputs": [],
   "source": []
  }
 ],
 "metadata": {
  "kernelspec": {
   "display_name": "Python 3 (ipykernel)",
   "language": "python",
   "name": "python3"
  },
  "language_info": {
   "codemirror_mode": {
    "name": "ipython",
    "version": 3
   },
   "file_extension": ".py",
   "mimetype": "text/x-python",
   "name": "python",
   "nbconvert_exporter": "python",
   "pygments_lexer": "ipython3",
   "version": "3.9.7"
  }
 },
 "nbformat": 4,
 "nbformat_minor": 5
}
