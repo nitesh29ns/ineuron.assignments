{
 "cells": [
  {
   "cell_type": "markdown",
   "id": "8ac56086",
   "metadata": {},
   "source": [
    "# 1. What exactly is []?\n",
    "\n",
    "Ans. `[]` is the empty `list`, which contain homogeneous and heterogeneous data."
   ]
  },
  {
   "cell_type": "markdown",
   "id": "2d959fef",
   "metadata": {},
   "source": [
    "# 2. In a list of values stored in a variable called spam, how would you assign the value 'hello' as the third value? (Assume [2, 4, 6, 8, 10] are in spam.)\n",
    "\n",
    "Ans. `spam.insert(2, 'hello')`"
   ]
  },
  {
   "cell_type": "markdown",
   "id": "da36c671",
   "metadata": {},
   "source": [
    "# Let's pretend the spam includes the list ['a', 'b', 'c', 'd'] for the next three queries."
   ]
  },
  {
   "cell_type": "markdown",
   "id": "7e3ad33d",
   "metadata": {},
   "source": [
    "# 3. What is the value of spam[int(int('3' * 2) / 11)]? \n",
    "\n",
    "Ans. `d` because after the the equation is solved so the ans is `3` and it return the item in the list on `3 index`."
   ]
  },
  {
   "cell_type": "markdown",
   "id": "0c96637d",
   "metadata": {},
   "source": [
    "# 4. What is the value of spam[-1]?\n",
    "\n",
    "Ans. 'd' because -1 represent the negative index."
   ]
  },
  {
   "cell_type": "markdown",
   "id": "bc365d79",
   "metadata": {},
   "source": [
    "# 5. What is the value of spam[:2]?\n",
    "\n",
    "Ans. `['a', 'b']` because it start accessing the list from the starting index till the index of `2`."
   ]
  },
  {
   "cell_type": "markdown",
   "id": "4049ea32",
   "metadata": {},
   "source": [
    "# Let's pretend bacon has the list [3.14, 'cat',  11, 'cat', True] for the next three questions."
   ]
  },
  {
   "cell_type": "markdown",
   "id": "e06040d7",
   "metadata": {},
   "source": [
    "# 6. What is the value of bacon.index('cat')?\n",
    "\n",
    "Ans. `1`."
   ]
  },
  {
   "cell_type": "markdown",
   "id": "4cacdfdc",
   "metadata": {},
   "source": [
    "# 7. How does bacon.append(99) change the look of the list value in bacon?\n",
    "\n",
    "Ans. it `add` the data `99` int the list at the last index."
   ]
  },
  {
   "cell_type": "markdown",
   "id": "8e229582",
   "metadata": {},
   "source": [
    "# 8. How does bacon.remove(&#39;cat&#39;) change the look of the list in bacon?\n",
    "\n",
    "Ans. it `remove or delete` the cat from the list."
   ]
  },
  {
   "cell_type": "markdown",
   "id": "55841bbc",
   "metadata": {},
   "source": [
    "# 9. What are the list concatenation and list replication operators?\n",
    "\n",
    "Ans. `list concatenation` is to add two list into new list `eg. lst = [1,2,3,4,5] + [6,7,8,9,10]` by using `+`, `replication operators` join two list by using `*` `eg. lst = [*[1,2,3,4,5], *[6,7,8,9,10]]` "
   ]
  },
  {
   "cell_type": "markdown",
   "id": "a4dd99d8",
   "metadata": {},
   "source": [
    "# 10. What is difference between the list methods append() and insert()?\n",
    "\n",
    "Ans. `append()` it used to add data in the list at the last index and you can not give index on where you want to add the data, `insert()` it used to add data in the list and you can give the index on where you want to add the data. "
   ]
  },
  {
   "cell_type": "markdown",
   "id": "58c521f5",
   "metadata": {},
   "source": [
    "# 11. What are the two methods for removing items from a list?\n",
    "\n",
    "Ans. `list.remove()` you can pass the value or the data you want to remove, `list.pop()` you can the pass the index of the data you want to remove."
   ]
  },
  {
   "cell_type": "markdown",
   "id": "ca269751",
   "metadata": {},
   "source": [
    "# 12. Describe how list values and string values are identical.\n",
    "\n",
    "Ans. In both list and string values you can iterate one by one. eg. in [1,2,3,4] you can access each value individually and in str(\"nitesh\") you can also access the each alphabatical character individually."
   ]
  },
  {
   "cell_type": "markdown",
   "id": "73dbde24",
   "metadata": {},
   "source": [
    "# 13. What's the difference between tuples and lists?\n",
    "\n",
    "Ans. the difference b/w tuples and lists is `tuples are immutable` where as `lists are mutable` you can change the values in a list but can not do in the lists"
   ]
  },
  {
   "cell_type": "markdown",
   "id": "e46b2c24",
   "metadata": {},
   "source": [
    "# 14. How do you type a tuple value that only contains the integer 42?\n",
    "\n",
    "Ans. `(42,)`"
   ]
  },
  {
   "cell_type": "markdown",
   "id": "7acaa8d7",
   "metadata": {},
   "source": [
    "# 15. How do you get a list value's tuple form? How do you get a tuple value's list form?\n",
    "\n",
    "Ans. list values's in tuple form `tulpe(list_variable_name)`, tuple value's in list form `list(tuple_variable_name)`."
   ]
  },
  {
   "cell_type": "markdown",
   "id": "455ae0d1",
   "metadata": {},
   "source": [
    "# 16. Variables that \"contain\" list values are not necessarily lists themselves. Instead, what do they contain?\n",
    "\n",
    "Ans. list can conatin any type of data like `int, string, float, tuple, dict `. "
   ]
  },
  {
   "cell_type": "markdown",
   "id": "33abbbe6",
   "metadata": {},
   "source": [
    "# 17. How do you distinguish between copy.copy() and copy.deepcopy()?\n",
    "\n",
    "Ans. `copy.copy()` changes in the copied object do reflect to the orignal object where as In `copy.deepcopy()` changes in the copied object does not reflect in the orignal object. "
   ]
  },
  {
   "cell_type": "code",
   "execution_count": null,
   "id": "ce06efef",
   "metadata": {},
   "outputs": [],
   "source": []
  },
  {
   "cell_type": "code",
   "execution_count": null,
   "id": "ae55e56f",
   "metadata": {},
   "outputs": [],
   "source": []
  },
  {
   "cell_type": "code",
   "execution_count": null,
   "id": "287a8807",
   "metadata": {},
   "outputs": [],
   "source": []
  }
 ],
 "metadata": {
  "kernelspec": {
   "display_name": "Python 3 (ipykernel)",
   "language": "python",
   "name": "python3"
  },
  "language_info": {
   "codemirror_mode": {
    "name": "ipython",
    "version": 3
   },
   "file_extension": ".py",
   "mimetype": "text/x-python",
   "name": "python",
   "nbconvert_exporter": "python",
   "pygments_lexer": "ipython3",
   "version": "3.9.7"
  }
 },
 "nbformat": 4,
 "nbformat_minor": 5
}
