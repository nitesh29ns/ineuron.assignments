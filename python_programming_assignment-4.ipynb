{
 "cells": [
  {
   "cell_type": "markdown",
   "id": "93d5ac7b",
   "metadata": {},
   "source": [
    "# 1. Write a Python Program to Find the Factorial of a Number?\n",
    "\n",
    "Ans.\n",
    "\n",
    "def factorial(num):\n",
    "    \n",
    "    fact = 1\n",
    "    \n",
    "    for i in range(num,0,-1):\n",
    "        \n",
    "        fact = i*fact\n",
    "        \n",
    "    print(fact)"
   ]
  },
  {
   "cell_type": "markdown",
   "id": "5c13b61b",
   "metadata": {},
   "source": [
    "# 2. Write a Python Program to Display the multiplication Table?\n",
    "\n",
    "Ans. \n",
    "\n",
    "def multiplication_table(num):\n",
    "    \n",
    "    for i in range(1,11):\n",
    "        \n",
    "        print(i*num)"
   ]
  },
  {
   "cell_type": "markdown",
   "id": "d637ccbd",
   "metadata": {},
   "source": [
    "# 3. Write a Python Program to Print the Fibonacci sequence? \n",
    "\n",
    "Ans. \n",
    "\n",
    "def fib(n):\n",
    "    \n",
    "    a = 0\n",
    "    \n",
    "    b = 1\n",
    "    \n",
    "    if n == 1:\n",
    "        \n",
    "        print(a)\n",
    "        \n",
    "    else:\n",
    "        \n",
    "        print(a)\n",
    "        \n",
    "        print(b)\n",
    "        \n",
    "        for i in range(2,n):\n",
    "            \n",
    "            c = a + b\n",
    "            \n",
    "            a = b\n",
    "            \n",
    "            b = c\n",
    "            \n",
    "            print(c)\n",
    "            "
   ]
  },
  {
   "cell_type": "markdown",
   "id": "148de340",
   "metadata": {},
   "source": [
    "# 4. Write a Python Program to Check Armstrong Number?\n",
    "\n",
    "Ans.\n",
    "\n",
    "def check_armstrong_num(num):\n",
    "    \n",
    "    no = str(num)\n",
    "    \n",
    "    n = len(no)\n",
    "    \n",
    "    l = []\n",
    "    \n",
    "    for i in no:\n",
    "        \n",
    "        j = int(i)**n\n",
    "        \n",
    "        l.append(j)\n",
    "        \n",
    "    if num == sum(l):\n",
    "        \n",
    "        print(f\"this is a armstrong number: {num}\")\n",
    "        \n",
    "    else:\n",
    "        \n",
    "        print (f\"this is not an armstrong number: {num}\")"
   ]
  },
  {
   "cell_type": "markdown",
   "id": "75149f2f",
   "metadata": {},
   "source": [
    "# 5. Write a Python Program to Find Armstrong Number in an Interval?\n",
    "\n",
    "Ans. \n",
    "\n",
    "def armstrong_num_in_intarval(lowwer, upper):\n",
    "    \n",
    "    for num in range(lowwer, upper+1):\n",
    "        \n",
    "        no = str(num)\n",
    "        \n",
    "        n = len(no)\n",
    "        \n",
    "        l = []\n",
    "        \n",
    "        for i in no:\n",
    "            \n",
    "            j = int(i)**n\n",
    "            \n",
    "            l.append(j)\n",
    "            \n",
    "        if num == sum(l):\n",
    "            \n",
    "            print(f\"this is a armstrong number: {num}\")\n",
    "            "
   ]
  },
  {
   "cell_type": "code",
   "execution_count": 418,
   "id": "f162bc82",
   "metadata": {},
   "outputs": [
    {
     "name": "stdout",
     "output_type": "stream",
     "text": [
      "this is a armstrong number: 153\n",
      "this is a armstrong number: 370\n",
      "this is a armstrong number: 371\n",
      "this is a armstrong number: 407\n",
      "this is a armstrong number: 1634\n"
     ]
    }
   ],
   "source": [
    "armstrong_num_in_intarval(100,2000)"
   ]
  },
  {
   "cell_type": "markdown",
   "id": "079efbdd",
   "metadata": {},
   "source": [
    "# 6. Write a Python Program to Find the Sum of Natural Numbers?\n",
    "\n",
    "Ans.\n",
    "def sum_natural_num(num):\n",
    "    \n",
    "    l = []\n",
    "    \n",
    "    for i in range(1,num+1):\n",
    "        \n",
    "        l.append(i)\n",
    "        \n",
    "    print(f\"sum of {num} is :{sum(l)}\")\n",
    "    "
   ]
  },
  {
   "cell_type": "code",
   "execution_count": 428,
   "id": "dda0da82",
   "metadata": {},
   "outputs": [
    {
     "name": "stdout",
     "output_type": "stream",
     "text": [
      "sum of 50 is :1275\n"
     ]
    }
   ],
   "source": [
    "sum_natural_num(50)"
   ]
  },
  {
   "cell_type": "code",
   "execution_count": null,
   "id": "34bc4cf8",
   "metadata": {},
   "outputs": [],
   "source": []
  },
  {
   "cell_type": "code",
   "execution_count": null,
   "id": "66eea463",
   "metadata": {},
   "outputs": [],
   "source": []
  },
  {
   "cell_type": "code",
   "execution_count": null,
   "id": "2e91032a",
   "metadata": {},
   "outputs": [],
   "source": []
  }
 ],
 "metadata": {
  "kernelspec": {
   "display_name": "Python 3 (ipykernel)",
   "language": "python",
   "name": "python3"
  },
  "language_info": {
   "codemirror_mode": {
    "name": "ipython",
    "version": 3
   },
   "file_extension": ".py",
   "mimetype": "text/x-python",
   "name": "python",
   "nbconvert_exporter": "python",
   "pygments_lexer": "ipython3",
   "version": "3.9.7"
  }
 },
 "nbformat": 4,
 "nbformat_minor": 5
}
