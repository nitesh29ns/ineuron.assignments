{
 "cells": [
  {
   "cell_type": "markdown",
   "id": "9a723f94",
   "metadata": {},
   "source": [
    "# 1. What does an empty dictionary's code look like?\n",
    "\n",
    "Ans. `my_dict = dict()`"
   ]
  },
  {
   "cell_type": "markdown",
   "id": "109ed8ea",
   "metadata": {},
   "source": [
    "# 2. What is the value of a dictionary value with the key 'foo' and the value 42?\n",
    "\n",
    "Ans. value is `42`."
   ]
  },
  {
   "cell_type": "markdown",
   "id": "9d5777f6",
   "metadata": {},
   "source": [
    "# 3. What is the most significant distinction between a dictionary and a list?\n",
    "\n",
    "Ans. `dict` hold values that can be access through `keys` you can store any kind of values like `(list, tuple, set, int,str)` against keys, and in `list` data or values is stores through `indexes` and can be access by `index` in list you can also store any kind of data."
   ]
  },
  {
   "cell_type": "markdown",
   "id": "cc922368",
   "metadata": {},
   "source": [
    "# 4. What happens if you try to access spam['foo'] if spam is {'bar': 100}?\n",
    "\n",
    "Ans. `spam['foo']` dict can not have any keys named `foo` in spam dict so it return `keywordError`."
   ]
  },
  {
   "cell_type": "markdown",
   "id": "4cac2235",
   "metadata": {},
   "source": [
    "# 5. If a dictionary is stored in spam, what is the difference between the expressions 'cat' in spam and 'cat' in spam.keys()?\n",
    "\n",
    "Ans. `cat` is a string and `cat in spam.keys()` is the dict key through which you can access data store aganist `cat keys` "
   ]
  },
  {
   "cell_type": "markdown",
   "id": "6dfd61b3",
   "metadata": {},
   "source": [
    "# 6. If a dictionary is stored in spam, what is the difference between the expressions 'cat' in spam and 'cat' in spam.values()?\n",
    "\n",
    "Ans. `cat` is a string and `cat in sapm.values()` is the `value` store in `dict spam`"
   ]
  },
  {
   "cell_type": "markdown",
   "id": "13db610f",
   "metadata": {},
   "source": [
    "# 7. What is a shortcut for the following code?\n",
    "    if 'color' not in spam:\n",
    "    \n",
    "    spam['color'] = 'black'\n",
    "    \n",
    "Ans. `spam['color'] = 'black'`."
   ]
  },
  {
   "cell_type": "markdown",
   "id": "db191031",
   "metadata": {},
   "source": [
    "# 8. How do you \"pretty print\" dictionary values using which module and function?\n",
    "\n",
    "Ans. `import pprint` and the funcation is `pprint.pprint()`."
   ]
  }
 ],
 "metadata": {
  "kernelspec": {
   "display_name": "Python 3 (ipykernel)",
   "language": "python",
   "name": "python3"
  },
  "language_info": {
   "codemirror_mode": {
    "name": "ipython",
    "version": 3
   },
   "file_extension": ".py",
   "mimetype": "text/x-python",
   "name": "python",
   "nbconvert_exporter": "python",
   "pygments_lexer": "ipython3",
   "version": "3.9.7"
  }
 },
 "nbformat": 4,
 "nbformat_minor": 5
}
