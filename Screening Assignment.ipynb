{
 "cells": [
  {
   "cell_type": "markdown",
   "id": "eca1b79c",
   "metadata": {},
   "source": [
    "# 1. Create a function in python to read the text file and replace specific content of the file.\n",
    "\n",
    "`File name` -- example.txt\n",
    "\n",
    "`Origin file content` -- This is a placement assignment \n",
    "\n",
    "`Replace string` --  Placement should be replaced by screening.\n",
    "\n",
    "`Replaced file content` -- This is a screening assignment"
   ]
  },
  {
   "cell_type": "code",
   "execution_count": 1,
   "id": "9908d958",
   "metadata": {},
   "outputs": [],
   "source": [
    "file = open('example.txt', 'w+')"
   ]
  },
  {
   "cell_type": "code",
   "execution_count": 2,
   "id": "baa63361",
   "metadata": {},
   "outputs": [
    {
     "data": {
      "text/plain": [
       "30"
      ]
     },
     "execution_count": 2,
     "metadata": {},
     "output_type": "execute_result"
    }
   ],
   "source": [
    "file.write(\"This is a placement assignment\")"
   ]
  },
  {
   "cell_type": "code",
   "execution_count": 3,
   "id": "24fa83f9",
   "metadata": {},
   "outputs": [],
   "source": [
    "file.close()"
   ]
  },
  {
   "cell_type": "code",
   "execution_count": 4,
   "id": "846df1c4",
   "metadata": {},
   "outputs": [],
   "source": [
    "file = open(\"example.txt\", 'r')"
   ]
  },
  {
   "cell_type": "code",
   "execution_count": 5,
   "id": "46660686",
   "metadata": {},
   "outputs": [
    {
     "data": {
      "text/plain": [
       "'This is a placement assignment'"
      ]
     },
     "execution_count": 5,
     "metadata": {},
     "output_type": "execute_result"
    }
   ],
   "source": [
    "file.read()"
   ]
  },
  {
   "cell_type": "code",
   "execution_count": 6,
   "id": "1002967b",
   "metadata": {},
   "outputs": [],
   "source": [
    "def replace(path, a, b):\n",
    "    \"\"\"\n",
    "    parameters :\n",
    "    path = file path\n",
    "    a = word you have to replace\n",
    "    b = new word \n",
    "    \"\"\"\n",
    "    try:\n",
    "        with open(path, 'r') as filedata:\n",
    "            f = filedata.read()\n",
    "            filedata = f.replace(a,b)\n",
    "            with open(path,\"w\") as file:\n",
    "                file.write(filedata)\n",
    "\n",
    "        with open(path, 'r') as f:\n",
    "             print(f.read())\n",
    "\n",
    "        file.close()     \n",
    "    except Exception as e:\n",
    "        print(\"there is an error: \",e)"
   ]
  },
  {
   "cell_type": "code",
   "execution_count": 7,
   "id": "c4790988",
   "metadata": {},
   "outputs": [
    {
     "name": "stdout",
     "output_type": "stream",
     "text": [
      "This is a screening assignment\n"
     ]
    }
   ],
   "source": [
    "replace('example.txt', 'placement','screening')"
   ]
  },
  {
   "cell_type": "code",
   "execution_count": null,
   "id": "19c0b4df",
   "metadata": {},
   "outputs": [],
   "source": []
  },
  {
   "cell_type": "code",
   "execution_count": null,
   "id": "77d8712f",
   "metadata": {},
   "outputs": [],
   "source": []
  },
  {
   "cell_type": "markdown",
   "id": "048be6bb",
   "metadata": {},
   "source": [
    "# 2. Demonstrate use of abstract class, multiple inheritance and decorator in python using examples."
   ]
  },
  {
   "cell_type": "code",
   "execution_count": 32,
   "id": "824cd403",
   "metadata": {},
   "outputs": [],
   "source": [
    "from abc import ABC , abstractmethod\n",
    "import logging as lg\n",
    "\n",
    "lg.basicConfig(filename ='calculator.log', level = lg.INFO, format = '%(asctime)s %(message)s')\n",
    "def log(func):    ## Decorator\n",
    "    def inner(self,*args,**kwargs):  ## closures\n",
    "        result = func(self,*args,**kwargs)\n",
    "        lg.info(\"funcation is being used.\")\n",
    "        lg.info(f\"output is : {result}\")\n",
    "        return result\n",
    "    return inner \n",
    "\n",
    "class calculator(ABC):  ## abstract class\n",
    "    @abstractmethod     ## abstract class decorator\n",
    "    \n",
    "    def info(self):     ## abscract funcation\n",
    "        return 0\n",
    "\n",
    "class addition(calculator):\n",
    "    try:\n",
    "        @log           ## call decorator\n",
    "        def add(self,a,b):\n",
    "            \"\"\"\n",
    "            parameters:\n",
    "             a = int value\n",
    "             b = int value\n",
    "            \"\"\"\n",
    "            self.a = a\n",
    "            self.b = b\n",
    "            return a+b\n",
    "        \n",
    "    except Exception as e:\n",
    "        print(\"this is a error : \",e)\n",
    "\n",
    "    def info(self):\n",
    "        return \"this is a addition funcation\"\n",
    "\n",
    "    class subration(calculator):\n",
    "        try:\n",
    "            @log\n",
    "            def sub(self, a, b):\n",
    "                self.a = a\n",
    "                self.b = b\n",
    "                return a-b\n",
    "        except Exception as e:\n",
    "            print(\"this is a error : \",e)\n",
    "\n",
    "        def info(self):\n",
    "            return \"this is a subration funcation\"\n",
    "\n",
    "    class multiply(subration,addition):  ## multiple inheritance\n",
    "        try:\n",
    "            @log\n",
    "            def mutl(self, a, b):\n",
    "                self.a = a\n",
    "                self.b = b\n",
    "                return a*b\n",
    "        except Exception as e:\n",
    "            print(\"this is a error : \",e)\n",
    "\n",
    "        def info(self):\n",
    "            return \"this is a multiply funcation\""
   ]
  },
  {
   "cell_type": "code",
   "execution_count": 33,
   "id": "2682ec8b",
   "metadata": {},
   "outputs": [],
   "source": [
    "a = addition()"
   ]
  },
  {
   "cell_type": "code",
   "execution_count": 34,
   "id": "9f18fd2b",
   "metadata": {},
   "outputs": [
    {
     "data": {
      "text/plain": [
       "6"
      ]
     },
     "execution_count": 34,
     "metadata": {},
     "output_type": "execute_result"
    }
   ],
   "source": [
    "a.add(1,5)"
   ]
  },
  {
   "cell_type": "code",
   "execution_count": 35,
   "id": "6b645ac0",
   "metadata": {},
   "outputs": [],
   "source": [
    "b=multiply()"
   ]
  },
  {
   "cell_type": "code",
   "execution_count": 36,
   "id": "e7e1b083",
   "metadata": {},
   "outputs": [
    {
     "data": {
      "text/plain": [
       "2"
      ]
     },
     "execution_count": 36,
     "metadata": {},
     "output_type": "execute_result"
    }
   ],
   "source": [
    "b.sub(5,3)"
   ]
  },
  {
   "cell_type": "code",
   "execution_count": 37,
   "id": "9bd3f494",
   "metadata": {},
   "outputs": [
    {
     "data": {
      "text/plain": [
       "21"
      ]
     },
     "execution_count": 37,
     "metadata": {},
     "output_type": "execute_result"
    }
   ],
   "source": [
    "b.mutl(3,7)"
   ]
  },
  {
   "cell_type": "code",
   "execution_count": null,
   "id": "ac6dfc1f",
   "metadata": {},
   "outputs": [],
   "source": []
  }
 ],
 "metadata": {
  "kernelspec": {
   "display_name": "Python 3 (ipykernel)",
   "language": "python",
   "name": "python3"
  },
  "language_info": {
   "codemirror_mode": {
    "name": "ipython",
    "version": 3
   },
   "file_extension": ".py",
   "mimetype": "text/x-python",
   "name": "python",
   "nbconvert_exporter": "python",
   "pygments_lexer": "ipython3",
   "version": "3.9.7"
  }
 },
 "nbformat": 4,
 "nbformat_minor": 5
}
