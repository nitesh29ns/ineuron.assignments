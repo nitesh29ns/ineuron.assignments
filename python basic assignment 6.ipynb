{
 "cells": [
  {
   "cell_type": "markdown",
   "id": "55bde5db",
   "metadata": {},
   "source": [
    "# 1. What are escape characters, and how do you use them?\n",
    "\n",
    "Ans. escape characters are `\\n, \\r, \\b etc.` `backslash with characters` `\\n`is used to add line, `\\r` is used to carriage return and `\\b` is used to give backspace."
   ]
  },
  {
   "cell_type": "markdown",
   "id": "ab19305f",
   "metadata": {},
   "source": [
    "# 2. What do the escape characters n and t stand for?\n",
    "\n",
    "Ans. `\\n` is for `newline` and `\\t` is used for `tab`."
   ]
  },
  {
   "cell_type": "markdown",
   "id": "e5fbb51d",
   "metadata": {},
   "source": [
    "# 3. What is the way to include backslash characters in a string?\n",
    "\n",
    "Ans. `print(\"hello \\n world\")`."
   ]
  },
  {
   "cell_type": "markdown",
   "id": "8908f8c9",
   "metadata": {},
   "source": [
    "# 4. The string \"Howl's Moving Castle\" is a correct value. Why isn't the single quote character in the word Howl's not escaped a problem?\n",
    "\n",
    "Ans.if you use `'` between the statment so you have to use `\" \"` because If you use `'` then the python will read `'` as the end of the string.  "
   ]
  },
  {
   "cell_type": "markdown",
   "id": "887bd8e3",
   "metadata": {},
   "source": [
    "# 5. How do you write a string of newlines if you don't want to use the n character?\n",
    "\n",
    "Ans. by using `end = ''`."
   ]
  },
  {
   "cell_type": "markdown",
   "id": "07939f3e",
   "metadata": {},
   "source": [
    "# 6. What are the values of the given expressions?\n",
    "1. 'Hello, world'[1]\n",
    " \n",
    "2. 'Hello, world'[0:5]\n",
    " \n",
    "3. 'Hello, world'[:5]\n",
    " \n",
    "4. 'Hello, world'[3:]\n",
    " \n",
    "Ans. 1 = `e`, 2 = `hello`, 3 = `hello`, 4 = `lo, world`"
   ]
  },
  {
   "cell_type": "markdown",
   "id": "023d7c4c",
   "metadata": {},
   "source": [
    "# 7. What are the values of the following expressions?\n",
    "1. 'Hello'.upper()\n",
    "\n",
    "2. 'Hello'.upper().isupper()\n",
    "\n",
    "3. 'Hello'.upper().lower()\n",
    "\n",
    "Ans. 1 = `HELLO`, 2 = `True`, 3 = `hello`."
   ]
  },
  {
   "cell_type": "markdown",
   "id": "f492ed05",
   "metadata": {},
   "source": [
    "# 8. What are the values of the following expressions?\n",
    "1. 'Remember, remember, the fifth of July.'.split()\n",
    "\n",
    "2. '-'.join('There can only one.'.split())\n",
    "\n",
    "Ans. 1 = `'Remember,', 'remember,', 'the', 'fifth', 'of', 'July.'`, 2 =`'There-can-only-one.'`"
   ]
  },
  {
   "cell_type": "markdown",
   "id": "1311a054",
   "metadata": {},
   "source": [
    "# 9. What are the methods for right-justifying, left-justifying, and centering a string?\n",
    "\n",
    "Ans. `right-justifying` = `string.ljust()`, `left-justifying` = `string.rjust()`, `centering` = `string.center()`."
   ]
  },
  {
   "cell_type": "markdown",
   "id": "22b791d4",
   "metadata": {},
   "source": [
    "# 10. What is the best way to remove whitespace characters from the start or end?\n",
    "\n",
    "Ans. you can use `strip()` or `lstrip()` just for left spaces and `rstrip()` just for right spaces and you can also use `replace(\" \", \"\")`."
   ]
  }
 ],
 "metadata": {
  "kernelspec": {
   "display_name": "Python 3 (ipykernel)",
   "language": "python",
   "name": "python3"
  },
  "language_info": {
   "codemirror_mode": {
    "name": "ipython",
    "version": 3
   },
   "file_extension": ".py",
   "mimetype": "text/x-python",
   "name": "python",
   "nbconvert_exporter": "python",
   "pygments_lexer": "ipython3",
   "version": "3.9.7"
  }
 },
 "nbformat": 4,
 "nbformat_minor": 5
}
