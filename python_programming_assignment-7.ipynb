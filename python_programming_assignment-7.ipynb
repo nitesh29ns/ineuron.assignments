{
 "cells": [
  {
   "cell_type": "markdown",
   "metadata": {},
   "source": [
    "# 1. Write a Python Program to find sum of Array ?"
   ]
  },
  {
   "cell_type": "code",
   "execution_count": 6,
   "metadata": {},
   "outputs": [
    {
     "data": {
      "text/plain": [
       "'sum of [1, 2, 4, 6, 8, 9] :-- 30'"
      ]
     },
     "execution_count": 6,
     "metadata": {},
     "output_type": "execute_result"
    }
   ],
   "source": [
    "def sum_of_array(array:list):\n",
    "    array_sum = sum(array)\n",
    "    return f\"sum of {array} :-- {array_sum}\"\n",
    "sum_of_array([1,2,4,6,8,9])"
   ]
  },
  {
   "cell_type": "markdown",
   "metadata": {},
   "source": [
    "# 2. Write a Python Program to find Largest element in an Array ?"
   ]
  },
  {
   "cell_type": "code",
   "execution_count": 19,
   "metadata": {},
   "outputs": [
    {
     "data": {
      "text/plain": [
       "'largest element in [6, 5, 9, 6, 1] is 9'"
      ]
     },
     "execution_count": 19,
     "metadata": {},
     "output_type": "execute_result"
    }
   ],
   "source": [
    "def largest_element_in_array(array:list):\n",
    "    sorted_array = sorted(array)\n",
    "    return f\"largest element in {array} is {sorted_array[-1]}\"\n",
    "\n",
    "largest_element_in_array([6,5,9,6,1])"
   ]
  },
  {
   "cell_type": "markdown",
   "metadata": {},
   "source": [
    "# 3. Write a Python Program for array rotation ?"
   ]
  },
  {
   "cell_type": "code",
   "execution_count": 22,
   "metadata": {},
   "outputs": [
    {
     "data": {
      "text/plain": [
       "'original array is [6, 5, 9, 6, 1] and rotated_array is [1, 6, 9, 5, 6]'"
      ]
     },
     "execution_count": 22,
     "metadata": {},
     "output_type": "execute_result"
    }
   ],
   "source": [
    "def rotated_array(array:list):\n",
    "    return f\"original array is {array} and rotated_array is {array[::-1]}\"\n",
    "\n",
    "rotated_array([6, 5, 9, 6, 1])"
   ]
  },
  {
   "cell_type": "markdown",
   "metadata": {},
   "source": [
    "# 4. Write a Python Program to Split the array and add the first part to the end ?"
   ]
  },
  {
   "cell_type": "code",
   "execution_count": 25,
   "metadata": {},
   "outputs": [
    {
     "data": {
      "text/plain": [
       "'first part is 1, end part is 9, sum is 10 .'"
      ]
     },
     "execution_count": 25,
     "metadata": {},
     "output_type": "execute_result"
    }
   ],
   "source": [
    "def sum_of_first_and_end_part(array):\n",
    "    return f\"first part is {array[0]}, end part is {array[-1]}, sum is {array[0]+array[-1]} .\"\n",
    "\n",
    "sum_of_first_and_end_part([1,2,5,6,8,9])"
   ]
  },
  {
   "cell_type": "markdown",
   "metadata": {},
   "source": [
    "# 5. Write a Python Program to check if given array is Monotonic ?"
   ]
  },
  {
   "cell_type": "code",
   "execution_count": 35,
   "metadata": {},
   "outputs": [
    {
     "name": "stdout",
     "output_type": "stream",
     "text": [
      "yes\n"
     ]
    }
   ],
   "source": [
    "def monotonic_checker(array):\n",
    "    if (array[i] <= array[i+1] for i in range(len(array)-1)):\n",
    "        print(\"yes\")\n",
    "    else:\n",
    "        print(\"no\")\n",
    "monotonic_checker([1,5,2])"
   ]
  },
  {
   "cell_type": "code",
   "execution_count": 51,
   "metadata": {},
   "outputs": [
    {
     "name": "stdout",
     "output_type": "stream",
     "text": [
      "Array [1, 2, 3, 4, 5] is Monotonic\n",
      "Array [1, 3, 2] is Not Monotonic\n"
     ]
    }
   ],
   "source": [
    "def monotonic_checker(array):\n",
    "    \n",
    "    if(all(array[i]<=array[i+1] for i in range(len(array)-1)) or all(array[i]>=array[i+1] for i in range(len(array)-1))):\n",
    "        print(f'Array {array} is Monotonic')\n",
    "    else:\n",
    "        print(f'Array {array} is Not Monotonic')\n",
    "\n",
    "monotonic_checker([1,2,3,4,5])\n",
    "monotonic_checker([1,3,2])\n",
    "    "
   ]
  }
 ],
 "metadata": {
  "kernelspec": {
   "display_name": "tensrflow",
   "language": "python",
   "name": "python3"
  },
  "language_info": {
   "codemirror_mode": {
    "name": "ipython",
    "version": 3
   },
   "file_extension": ".py",
   "mimetype": "text/x-python",
   "name": "python",
   "nbconvert_exporter": "python",
   "pygments_lexer": "ipython3",
   "version": "3.7.15"
  }
 },
 "nbformat": 4,
 "nbformat_minor": 2
}
