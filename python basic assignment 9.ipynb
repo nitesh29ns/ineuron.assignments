{
 "cells": [
  {
   "cell_type": "markdown",
   "id": "c70e0abb",
   "metadata": {},
   "source": [
    "# 1. To what does a relative path refer?\n",
    "\n",
    "Ans.It return the relative filepath of the current dir or given dir."
   ]
  },
  {
   "cell_type": "markdown",
   "id": "7eb36e8e",
   "metadata": {},
   "source": [
    "# 2. What does an absolute path start with your operating system?\n",
    "\n",
    "Ans. It start with the home dir of the computer and ends with the required file you want to access."
   ]
  },
  {
   "cell_type": "markdown",
   "id": "4ba73a69",
   "metadata": {},
   "source": [
    "# 3. What do the functions os.getcwd() and os.chdir() do?\n",
    "\n",
    "Ans. `os.getcwd()` is used to see the current directory that you are working in and `os.chdir()` is used to change the current working dir to another dir as you want to."
   ]
  },
  {
   "cell_type": "markdown",
   "id": "5f3015dd",
   "metadata": {},
   "source": [
    "# 4. What are the . and .. folders?\n",
    "\n",
    "Ans. `.` is represent the current dir where as `..` represent the parent directory."
   ]
  },
  {
   "cell_type": "markdown",
   "id": "19dd0169",
   "metadata": {},
   "source": [
    "# 5. In C:\\bacon\\eggs\\spam.txt, which part is the dir name, and which part is the base name?\n",
    "\n",
    "Ans. `c:\\bacon\\eggs\\spam.txt` is the dir name and `spam.txt` is the base name."
   ]
  },
  {
   "cell_type": "markdown",
   "id": "905e0394",
   "metadata": {},
   "source": [
    "# 6. What are the three “mode” arguments that can be passed to the open() function?\n",
    "\n",
    "Ans. `r` is the read mode, `w` is the write mode, `a` is the append mode."
   ]
  },
  {
   "cell_type": "markdown",
   "id": "b8ea6a7a",
   "metadata": {},
   "source": [
    "# 7. What happens if an existing file is opened in write mode?\n",
    "\n",
    "Ans. If you open an existing file in `w` write mode then it erased the data and overwritten completely. "
   ]
  },
  {
   "cell_type": "markdown",
   "id": "1a7b6d8a",
   "metadata": {},
   "source": [
    "# 8. How do you tell the difference between read() and readlines()?\n",
    "\n",
    "Ans. `read()` return all the data within the file and `readlines()` return the list of string where each string is the line from the data of the file."
   ]
  },
  {
   "cell_type": "markdown",
   "id": "514a28da",
   "metadata": {},
   "source": [
    "# 9. What data structure does a shelf value resemble?\n",
    "\n",
    "Ans. `dictionary`."
   ]
  },
  {
   "cell_type": "code",
   "execution_count": null,
   "id": "f55088ef",
   "metadata": {},
   "outputs": [],
   "source": []
  }
 ],
 "metadata": {
  "kernelspec": {
   "display_name": "Python 3 (ipykernel)",
   "language": "python",
   "name": "python3"
  },
  "language_info": {
   "codemirror_mode": {
    "name": "ipython",
    "version": 3
   },
   "file_extension": ".py",
   "mimetype": "text/x-python",
   "name": "python",
   "nbconvert_exporter": "python",
   "pygments_lexer": "ipython3",
   "version": "3.9.7"
  }
 },
 "nbformat": 4,
 "nbformat_minor": 5
}
