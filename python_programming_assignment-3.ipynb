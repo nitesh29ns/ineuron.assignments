{
 "cells": [
  {
   "cell_type": "markdown",
   "id": "dad4f0b3",
   "metadata": {},
   "source": [
    "# 1. Write a Python Program to Check if a Number is Positive, Negative or Zero?\n",
    "\n",
    "Ans.\n",
    "\n",
    "def type_of_int(a):\n",
    "    \n",
    "    if a < 0 :\n",
    "    \n",
    "        return a, \"is a negitive integer.\"\n",
    "    \n",
    "    elif a > 0 :\n",
    "    \n",
    "        return a, \"is a positive integer.\"\n",
    "    \n",
    "    elif a == 0:\n",
    "    \n",
    "        return a, \"is zero.\""
   ]
  },
  {
   "cell_type": "markdown",
   "id": "20621ba9",
   "metadata": {},
   "source": [
    "# 2. Write a Python Program to Check if a Number is Odd or Even?\n",
    "\n",
    "Ans. \n",
    "\n",
    "def odd_even(a):\n",
    "\n",
    "    if a % 2:\n",
    "    \n",
    "        return(a, 'is odd')\n",
    "    \n",
    "    else :\n",
    "    \n",
    "        return(a, \"is even\")\n"
   ]
  },
  {
   "cell_type": "markdown",
   "id": "1270a6c8",
   "metadata": {},
   "source": [
    "# 3. Write a Python Program to Check Leap Year?\n",
    "\n",
    "Ans. \n",
    "\n",
    "def leap_year(year):\n",
    "    \n",
    "    if((year % 400 == 0) or  (year % 100 != 0) and  (year % 4 == 0)):   \n",
    "    \n",
    "        return year, \"is leap year\"\n",
    "\n",
    "    \n",
    "    else:\n",
    "    \n",
    "        return year,\"is not leap year\""
   ]
  },
  {
   "cell_type": "markdown",
   "id": "5c7c8f9a",
   "metadata": {},
   "source": [
    "# 4. Write a Python Program to Check Prime Number?\n",
    "\n",
    "Ans.\n",
    "\n",
    "def check_prime(num):\n",
    "    \n",
    "    if num > 1:\n",
    "    \n",
    "        for i in range(2, int(num/2)+1):\n",
    "            \n",
    "            \n",
    "            if (num % 1) == 0:\n",
    "            \n",
    "                print(num, \"is not a prime number\")\n",
    "                \n",
    "                break\n",
    "       \n",
    "         else:\n",
    "        \n",
    "            print(num, \"is a prime number\")\n",
    "  \n",
    "    \n",
    "    else:\n",
    "    \n",
    "        print(num, \"is not a prime number\")"
   ]
  },
  {
   "cell_type": "markdown",
   "id": "25a445b0",
   "metadata": {},
   "source": [
    "# 5. Write a Python Program to Print all Prime Numbers in an Interval of 1-10000?\n",
    "\n",
    "Ans. \n",
    "\n",
    "def check_prime():\n",
    "    \n",
    "    for num in range(1,10000):\n",
    "    \n",
    "        if num > 1:\n",
    "    \n",
    "            for i in range(2, int(num/2)+1):\n",
    "            \n",
    "            \n",
    "                if (num % 1) == 0:\n",
    "            \n",
    "                    print(num, \"is not a prime number\")\n",
    "                \n",
    "                    break\n",
    "       \n",
    "            else:\n",
    "        \n",
    "                print(num, \"is a prime number\")\n",
    "  \n",
    "    \n",
    "        else:\n",
    "    \n",
    "            print(num, \"is not a prime number\")"
   ]
  },
  {
   "cell_type": "code",
   "execution_count": null,
   "id": "82abf2bf",
   "metadata": {},
   "outputs": [],
   "source": []
  }
 ],
 "metadata": {
  "kernelspec": {
   "display_name": "Python 3 (ipykernel)",
   "language": "python",
   "name": "python3"
  },
  "language_info": {
   "codemirror_mode": {
    "name": "ipython",
    "version": 3
   },
   "file_extension": ".py",
   "mimetype": "text/x-python",
   "name": "python",
   "nbconvert_exporter": "python",
   "pygments_lexer": "ipython3",
   "version": "3.9.7"
  }
 },
 "nbformat": 4,
 "nbformat_minor": 5
}
