{
 "cells": [
  {
   "cell_type": "markdown",
   "id": "f8e5e633",
   "metadata": {},
   "source": [
    "# 1. Why are functions advantageous to have in your programs?\n",
    "Ans. Funcation helps you to reduce the line of code in your program and you can call your funcation any where in you program and even in different program by importing module and then funcation that module. so you don`t have to write duplicate lines of code."
   ]
  },
  {
   "cell_type": "markdown",
   "id": "910bd7a9",
   "metadata": {},
   "source": [
    "# 2. When does the code in a function run: when it's specified or when it's called?\n",
    "\n",
    "Ans. the code in a funcation run when it`s called."
   ]
  },
  {
   "cell_type": "markdown",
   "id": "526d2d87",
   "metadata": {},
   "source": [
    "# 3. What statement creates a function?\n",
    "\n",
    "ans. `def<funcation_name(parameters, args, kwargs):>\n",
    "          statements or line of code you want to run`"
   ]
  },
  {
   "cell_type": "markdown",
   "id": "91dc55a6",
   "metadata": {},
   "source": [
    "# 4. What is the difference between a function and a function call?\n",
    "\n",
    "Ans. In `funcation` you create and write what you want to from the funcation to do and get particular result and In `funcation call` it just give you the particular when you call it"
   ]
  },
  {
   "cell_type": "markdown",
   "id": "23b48ba4",
   "metadata": {},
   "source": [
    "# 5. How many global scopes are there in a Python program? How many local scopes?\n",
    "\n",
    "Ans. you can create as many global var with differnet names and in local var you can create as many local var as you want but this local var can be called only inside the fucation in which it is create."
   ]
  },
  {
   "cell_type": "markdown",
   "id": "44674acd",
   "metadata": {},
   "source": [
    "# 6. What happens to variables in a local scope when the function call returns?\n",
    "\n",
    "Ans. when the funcation call returns the local var go to its initial value as it define at the time of create the funcation. "
   ]
  },
  {
   "cell_type": "markdown",
   "id": "32105b03",
   "metadata": {},
   "source": [
    "# 7. What is the concept of a return value? Is it possible to have a return value in an expression?\n",
    "\n",
    "Ans. return value is the value that a funcation return when funcation calling complete it's task. It is not possible to return value in an expression because return value can be any of the four data types(int, string, float, object)  "
   ]
  },
  {
   "cell_type": "markdown",
   "id": "c3c628a6",
   "metadata": {},
   "source": [
    "# 8. If a function does not have a return statement, what is the return value of a call to that function?\n",
    "\n",
    "Ans. The `default value of return is None`, so it return `None`."
   ]
  },
  {
   "cell_type": "markdown",
   "id": "2f0881cc",
   "metadata": {},
   "source": [
    "# 9. How do you make a function variable refer to the global variable?\n",
    "\n",
    "Ans. By using keyword `global`."
   ]
  },
  {
   "cell_type": "markdown",
   "id": "b1d08709",
   "metadata": {},
   "source": [
    "# 10. What is the data type of None? \n",
    "\n",
    "Ans. `None datatype object`"
   ]
  },
  {
   "cell_type": "markdown",
   "id": "d7564cce",
   "metadata": {},
   "source": [
    "# 11. What does the sentence import areallyourpetsnamederic do?\n",
    "\n",
    "Ans. import is used to use the funcation or any thing the program into the any other program or to import the existing libraries."
   ]
  },
  {
   "cell_type": "markdown",
   "id": "0504508a",
   "metadata": {},
   "source": [
    "# 12. If you had a bacon() feature in a spam module, what would you call it after importing spam?\n",
    "\n",
    "Ans. `spam.bacon()`"
   ]
  },
  {
   "cell_type": "markdown",
   "id": "eabeed48",
   "metadata": {},
   "source": [
    "# 13. What can you do to save a programme from crashing if it encounters an error?\n",
    "\n",
    "Ans. use `try and except`"
   ]
  },
  {
   "cell_type": "markdown",
   "id": "1e13e96f",
   "metadata": {},
   "source": [
    "# 14. What is the purpose of the try clause? What is the purpose of the except clause?\n",
    "\n",
    "Ans. `try` is used to store the statments you want to run and `except` is used to store the statments you want to run when error occurs."
   ]
  },
  {
   "cell_type": "code",
   "execution_count": null,
   "id": "06b16bab",
   "metadata": {},
   "outputs": [],
   "source": []
  }
 ],
 "metadata": {
  "kernelspec": {
   "display_name": "Python 3 (ipykernel)",
   "language": "python",
   "name": "python3"
  },
  "language_info": {
   "codemirror_mode": {
    "name": "ipython",
    "version": 3
   },
   "file_extension": ".py",
   "mimetype": "text/x-python",
   "name": "python",
   "nbconvert_exporter": "python",
   "pygments_lexer": "ipython3",
   "version": "3.9.7"
  }
 },
 "nbformat": 4,
 "nbformat_minor": 5
}
