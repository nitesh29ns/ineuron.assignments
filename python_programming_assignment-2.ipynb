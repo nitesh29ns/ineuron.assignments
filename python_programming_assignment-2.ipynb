{
 "cells": [
  {
   "cell_type": "markdown",
   "id": "81e4b030",
   "metadata": {},
   "source": [
    "# 1. Write a Python program to convert kilometers to miles?\n",
    "\n",
    "Ans.\n",
    "\n",
    "def km_to_mile(km):\n",
    "    \n",
    "    \"\"\"parameter : km = enter distance in kilometer.\n",
    "    \"\"\"\n",
    "    \n",
    "    miles = km*0.62 # 1 km is 0.62 miles\n",
    "    \n",
    "    return miles\n",
    "    \n",
    "   "
   ]
  },
  {
   "cell_type": "markdown",
   "id": "fbb33074",
   "metadata": {},
   "source": [
    "# 2. Write a Python program to convert Celsius to Fahrenheit?\n",
    "\n",
    "Ans. \n",
    "\n",
    "def cel_to_Farh(cel):\n",
    "    \n",
    "    \"\"\"\n",
    "    parameter : cel = enter tempeture in celsius..\n",
    "    \"\"\"\n",
    "    \n",
    "    farhrenheit = cel *9/5 + 32\n",
    "    \n",
    "    return farhrenheit"
   ]
  },
  {
   "cell_type": "markdown",
   "id": "693614fb",
   "metadata": {},
   "source": [
    "# 3. Write a Python program to display calendar?\n",
    "\n",
    "Ans. import calender\n",
    "\n",
    "def show_calender(year):\n",
    "    \n",
    "    f = calendar.TextCalendar(calendar.SUNDAY)\n",
    "    \n",
    "    cal = f.formatyear(year)\n",
    "    \n",
    "    print(cal)"
   ]
  },
  {
   "cell_type": "markdown",
   "id": "ef8ddc28",
   "metadata": {},
   "source": [
    "# 4. Write a Python program to solve quadratic equation?\n",
    "\n",
    "Ans. import cmath\n",
    "\n",
    "def solve_qd_eq(a,b,c):\n",
    "    \n",
    "    d = (b**2) - (4*a*c)\n",
    "    \n",
    "    sol1 = (-b-cmath.sqrt(d))/(2*a)\n",
    "    \n",
    "    sol2 = (-b+cmath.sqrt(d))/(2*a)\n",
    "    \n",
    "    print(f\"the solution are {sol1}, {sol2}..\")"
   ]
  },
  {
   "cell_type": "markdown",
   "id": "f291d653",
   "metadata": {},
   "source": [
    "# 5. Write a Python program to swap two variables without temp variable?\n",
    "\n",
    "Ans. \n",
    "\n",
    "def swap(a,b):\n",
    "    \n",
    "    a,b=b,a\n",
    "    \n",
    "    print (a,b)"
   ]
  },
  {
   "cell_type": "code",
   "execution_count": null,
   "id": "358e69c8",
   "metadata": {},
   "outputs": [],
   "source": []
  }
 ],
 "metadata": {
  "kernelspec": {
   "display_name": "Python 3 (ipykernel)",
   "language": "python",
   "name": "python3"
  },
  "language_info": {
   "codemirror_mode": {
    "name": "ipython",
    "version": 3
   },
   "file_extension": ".py",
   "mimetype": "text/x-python",
   "name": "python",
   "nbconvert_exporter": "python",
   "pygments_lexer": "ipython3",
   "version": "3.9.7"
  }
 },
 "nbformat": 4,
 "nbformat_minor": 5
}
