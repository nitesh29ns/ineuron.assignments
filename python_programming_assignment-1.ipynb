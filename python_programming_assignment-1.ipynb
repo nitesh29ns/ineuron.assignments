{
 "cells": [
  {
   "cell_type": "markdown",
   "id": "b0f8c505",
   "metadata": {},
   "source": [
    "# 1. Write a Python program to print 'Hello Python'?\n",
    "\n",
    "Ans. `def test(a):\n",
    "          \n",
    "          print(a)\n",
    "    \n",
    "    test(\"hello python\")`."
   ]
  },
  {
   "cell_type": "markdown",
   "id": "fe1e94a3",
   "metadata": {},
   "source": [
    "# 2. Write a Python program to do arithmetical operations addition and division.?\n",
    "\n",
    "Ans. `add` = def add(*args):\n",
    "                 \n",
    "                 return sum(args)\n",
    "                 \n",
    "    \n",
    "  `division` = def div(a,b):\n",
    "                   \n",
    "                   return a/b"
   ]
  },
  {
   "cell_type": "markdown",
   "id": "45d805d4",
   "metadata": {},
   "source": [
    "# 3. Write a Python program to find the area of a triangle?\n",
    "\n",
    "Ans. def area(a,b,c):\n",
    "        \n",
    "        if (a<0 or b<0 or c<0 or (a+b<=c) or (a+c<=b) or (b+c<=a)):\n",
    "            \n",
    "            return \"this is not a triangle\"\n",
    "    \n",
    "        s = (a+b+c) / 2\n",
    "    \n",
    "        area = (s * (s - a) *(s - b) * (s - c)) **0.5\n",
    "    \n",
    "    \n",
    "        return \"area of triangle is: \",area "
   ]
  },
  {
   "cell_type": "markdown",
   "id": "b7760d17",
   "metadata": {},
   "source": [
    "# 4. Write a Python program to swap two variables?\n",
    "\n",
    "Ans. def swap(a,b):\n",
    "         \n",
    "        a,b = b,a\n",
    "        \n",
    "        return a,b"
   ]
  },
  {
   "cell_type": "markdown",
   "id": "fcb5d786",
   "metadata": {},
   "source": [
    "# 5. Write a Python program to generate a random number?\n",
    "\n",
    "Ans.  import random\n",
    "\n",
    "def random_no():\n",
    "\n",
    "    a = random.randint(0,9)\n",
    "\n",
    "    return a\n",
    "\n"
   ]
  },
  {
   "cell_type": "code",
   "execution_count": null,
   "id": "9dec0ffc",
   "metadata": {},
   "outputs": [],
   "source": []
  }
 ],
 "metadata": {
  "kernelspec": {
   "display_name": "Python 3 (ipykernel)",
   "language": "python",
   "name": "python3"
  },
  "language_info": {
   "codemirror_mode": {
    "name": "ipython",
    "version": 3
   },
   "file_extension": ".py",
   "mimetype": "text/x-python",
   "name": "python",
   "nbconvert_exporter": "python",
   "pygments_lexer": "ipython3",
   "version": "3.9.7"
  }
 },
 "nbformat": 4,
 "nbformat_minor": 5
}
