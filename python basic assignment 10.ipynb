{
 "cells": [
  {
   "cell_type": "markdown",
   "id": "84d9bf55",
   "metadata": {},
   "source": [
    "# 1. How do you distinguish between shutil.copy() and shutil.copytree()?\n",
    "\n",
    "Ans. `shutil.copy()` will copy a single file and `shutil.copytree()` will copy an entire folder and every folder and file contain init."
   ]
  },
  {
   "cell_type": "markdown",
   "id": "a3d1b320",
   "metadata": {},
   "source": [
    "# 2. What function is used to rename files??\n",
    "\n",
    "Ans. `shutil.move(path with old name , path with  new name)`."
   ]
  },
  {
   "cell_type": "markdown",
   "id": "a4cf5c3b",
   "metadata": {},
   "source": [
    "# 3. What is the difference between the delete functions in the send2trash and shutil modules?\n",
    "\n",
    "Ans. delete funcation will delete the file parmanently will `send2trash()` will send the file to trash or recycle bin of the computer and `shutil,rmtree()` is irreversibly."
   ]
  },
  {
   "cell_type": "markdown",
   "id": "bb31afb3",
   "metadata": {},
   "source": [
    "# 4.ZipFile objects have a close() method just like File objects’ close() method. What ZipFile method is equivalent to File objects’ open() method?\n",
    " Ans. To create an zip file you have to open file in `w` mode.\n",
    "    \n",
    "    Eg. `obj = zipfile.Zipfile('name.zip', 'w')`\n",
    "        `obj.write(file.txt, compress_type = zipfile.ZIP_DEFLATED)`\n",
    "        `obj.close()`"
   ]
  },
  {
   "cell_type": "markdown",
   "id": "46a521fe",
   "metadata": {},
   "source": [
    "# 5. Create a programme that searches a folder tree for files with a certain file extension (such as .pdf or .jpg). Copy these files from whatever location they are in to a new folder.\n",
    "\n",
    "Ans. `import re, os, shutil\n",
    "     \n",
    "    ext = re.compile(r\"(\\.png|\\.pdf)\")\n",
    "    \n",
    "    move_file = []\n",
    "    for i in os.listdir():\n",
    "        file = re.findall(ext, i)\n",
    "        print(file)\n",
    "        if file == []:\n",
    "            print(\"no\")\n",
    "        elif file == ['.png'] or ['.pdf']:\n",
    "            move_file.append(i)\n",
    "            \n",
    "    l = []\n",
    "    for i in move_file:\n",
    "        l.append('C:\\\\Users\\\\nites\\\\Documents/'+i)\n",
    "        \n",
    "    for i in l:\n",
    "    shutil.copy(i, target)`."
   ]
  }
 ],
 "metadata": {
  "kernelspec": {
   "display_name": "Python 3 (ipykernel)",
   "language": "python",
   "name": "python3"
  },
  "language_info": {
   "codemirror_mode": {
    "name": "ipython",
    "version": 3
   },
   "file_extension": ".py",
   "mimetype": "text/x-python",
   "name": "python",
   "nbconvert_exporter": "python",
   "pygments_lexer": "ipython3",
   "version": "3.9.7"
  }
 },
 "nbformat": 4,
 "nbformat_minor": 5
}
